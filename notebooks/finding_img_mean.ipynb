{
 "cells": [
  {
   "cell_type": "code",
   "execution_count": 1,
   "metadata": {},
   "outputs": [],
   "source": [
    "import os\n",
    "import pandas as pd\n",
    "import torchvision.transforms as transforms\n",
    "import torch\n",
    "from torch.utils.data import Dataset, DataLoader\n",
    "from PIL import Image\n",
    "from sklearn.model_selection import train_test_split"
   ]
  },
  {
   "cell_type": "code",
   "execution_count": 2,
   "metadata": {},
   "outputs": [],
   "source": [
    "# organizing the classes in 3 folders\n",
    "lung_opacity_path = 'data/Lung_Opacity'\n",
    "normal_path = 'data/Normal'\n",
    "viral_pneumonia_path = 'data/Viral Pneumonia/'\n",
    "data_paths = [normal_path, lung_opacity_path, viral_pneumonia_path]\n",
    "\n",
    "file_paths_list = []\n",
    "labels_list = []\n",
    "class_labels = ['Normal', 'Lung Opacity','Viral Pneumonia']"
   ]
  },
  {
   "cell_type": "code",
   "execution_count": 3,
   "metadata": {},
   "outputs": [],
   "source": [
    "# adjusting the dataset into a pandas dataframe\n",
    "for i, data_path in enumerate(data_paths):\n",
    "    files = os.listdir(data_path)\n",
    "    for filename in files:\n",
    "        file_path = os.path.join(data_path, filename)\n",
    "        file_paths_list.append(file_path)\n",
    "        labels_list.append(class_labels[i])\n",
    "\n",
    "file_paths_series = pd.Series(file_paths_list, name=\"filepaths\")\n",
    "labels_series = pd.Series(labels_list, name=\"labels\")\n",
    "data = pd.concat([file_paths_series, labels_series], axis=1)\n",
    "df = pd.DataFrame(data)"
   ]
  },
  {
   "cell_type": "code",
   "execution_count": 4,
   "metadata": {},
   "outputs": [
    {
     "name": "stdout",
     "output_type": "stream",
     "text": [
      "train: (2215, 2), test: (869, 2), validation: (391, 2)\n"
     ]
    }
   ],
   "source": [
    "train_df, test_df = train_test_split(df, test_size=0.25, random_state=42, stratify=df.labels)\n",
    "\n",
    "train_df, val_df = train_test_split(train_df, test_size=0.15, random_state=42, stratify=train_df.labels)\n",
    "\n",
    "print(f'train: {train_df.shape}, test: {test_df.shape}, validation: {val_df.shape}')"
   ]
  },
  {
   "cell_type": "code",
   "execution_count": 5,
   "metadata": {},
   "outputs": [],
   "source": [
    "class ImageDataset(Dataset):\n",
    "    def __init__(self, dataframe, transform=None):\n",
    "        self.dataframe = dataframe\n",
    "        self.transform = transform\n",
    "\n",
    "    def __len__(self):\n",
    "        return len(self.dataframe)\n",
    "\n",
    "    def __getitem__(self, idx):\n",
    "        img_path = self.dataframe.iloc[idx, 0]\n",
    "        img_label = self.dataframe.iloc[idx, 1]\n",
    "        image = Image.open(img_path).convert('RGB')\n",
    "        if self.transform:\n",
    "            image = self.transform(image)\n",
    "        return image\n",
    "\n",
    "transform = transforms.Compose([\n",
    "    transforms.Resize((224, 224)),\n",
    "    transforms.ToTensor(),\n",
    "])\n",
    "\n",
    "train_dataset = ImageDataset(train_df, transform=transform)\n",
    "train_loader = DataLoader(train_dataset, batch_size=32, shuffle=False)\n"
   ]
  },
  {
   "cell_type": "code",
   "execution_count": 6,
   "metadata": {},
   "outputs": [
    {
     "name": "stdout",
     "output_type": "stream",
     "text": [
      "Mean: tensor([0.2860, 0.5660, 0.4400])\n",
      "Std: tensor([0.1837, 0.2486, 0.1257])\n"
     ]
    }
   ],
   "source": [
    "def calculate_mean_std(loader):\n",
    "    channels_sum, channels_squared_sum, num_batches = 0, 0, 0\n",
    "\n",
    "    for data in loader:\n",
    "        channels_sum += torch.mean(data, dim=[0, 2, 3])\n",
    "        channels_squared_sum += torch.mean(data**2, dim=[0, 2, 3])\n",
    "        num_batches += 1\n",
    "\n",
    "    mean = channels_sum / num_batches\n",
    "    std = (channels_squared_sum / num_batches - mean**2)**0.5\n",
    "    return mean, std\n",
    "\n",
    "mean, std = calculate_mean_std(train_loader)\n",
    "print(f'Mean: {mean}')\n",
    "print(f'Std: {std}')\n"
   ]
  }
 ],
 "metadata": {
  "kernelspec": {
   "display_name": "Lung Disease",
   "language": "python",
   "name": "myenv"
  },
  "language_info": {
   "codemirror_mode": {
    "name": "ipython",
    "version": 3
   },
   "file_extension": ".py",
   "mimetype": "text/x-python",
   "name": "python",
   "nbconvert_exporter": "python",
   "pygments_lexer": "ipython3",
   "version": "3.12.2"
  }
 },
 "nbformat": 4,
 "nbformat_minor": 2
}
